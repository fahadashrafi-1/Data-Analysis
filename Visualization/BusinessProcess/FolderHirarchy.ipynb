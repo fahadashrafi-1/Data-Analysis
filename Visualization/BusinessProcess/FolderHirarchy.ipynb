dot = Digraph(filename='FolderHirarchy.svg')

dot.node('z','Department Folder Hierarchy', shape='plaintext')
dot.node('5','00 First- Level', bgcolor='red', shape='box')
dot.node('5','00 First- Level', bgcolor='red', shape='box')
dot.node('1','00 Reporting',shape='box' , color='red')
dot.node('2','01 Monthly', shape='box', color='greenyellow')
dot.node('3','02 Bi Weekly', shape='box', color='greenyellow')
dot.node('4','03 Weekly', shape='box', color='greenyellow')
dot.node('6','August 2023', shape='box', color='blue4')
dot.node('7','September 2023', shape='box', color='blue4')
dot.node('8','August 2023', shape='box', color='blue4')
dot.node('9','September 2023', shape='box', color='blue4')
dot.node('8','August 2023', shape='box', color='blue4')
dot.node('A','September 2023', shape='box', color='blue4')
dot.node('B','Week 1', shape='box', color='darkgreen')
dot.node('C','Week 2', shape='box', color='darkgreen')
dot.node('D','Week 3', shape='box', color='darkgreen')
dot.node('E','Week 4', shape='box', color='darkgreen')
dot.edges(['z5','51','12','13', '14', '26', '27', '38', '39','4A', 'AB', 'AC', 'AD', 'AE' ])

dot.format= 'svg'
dot.render('First- Level')
dot