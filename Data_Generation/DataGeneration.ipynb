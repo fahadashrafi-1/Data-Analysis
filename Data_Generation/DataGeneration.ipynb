{
 "cells": [
  {
   "cell_type": "code",
   "execution_count": 1,
   "id": "e02ef27e-361d-4102-9f8e-6dfdcc29a570",
   "metadata": {},
   "outputs": [],
   "source": [
    "# We will use python package for generating the fake data which will help us to generate the required data.\n",
    "from faker import Faker\n",
    "from faker.providers import DynamicProvider\n",
    "import os \n",
    "import pandas as pd\n",
    "fake = Faker()"
   ]
  },
  {
   "cell_type": "code",
   "execution_count": 2,
   "id": "4c628987",
   "metadata": {},
   "outputs": [],
   "source": [
    "os.chdir('..')"
   ]
  },
  {
   "cell_type": "code",
   "execution_count": 3,
   "id": "06e12ab4",
   "metadata": {},
   "outputs": [],
   "source": [
    "# Starting Point from where we are going to start.\n",
    "# Consider This is as a list of managers undder Active Directory.\n",
    "\n",
    "dat = []\n",
    "\n",
    "for i in range(12):\n",
    "    dat.append([fake.pyint() , fake.name(), fake.email(), fake.phone_number()])\n",
    "\n",
    "managers = pd.DataFrame(dat, columns=['EmpID', 'DisplayName', 'UserPrincipalName', 'UserPhoneNumber'])\n",
    "managers.to_excel('Reports(MS-Excel&Word)/Data/Managers.xlsx')\n"
   ]
  },
  {
   "cell_type": "code",
   "execution_count": 4,
   "id": "d06f1692-78c8-414c-83f2-f8e3fdf6db5f",
   "metadata": {},
   "outputs": [],
   "source": [
    "# This is a very simple Dynamic Provider to create relationship between employees and managers\n",
    "\n",
    "mangers = DynamicProvider(\n",
    "     provider_name=\"employee_manager\",\n",
    "     elements= managers['EmpID'].tolist()\n",
    ")\n",
    "\n",
    "fake.add_provider(mangers)\n"
   ]
  },
  {
   "cell_type": "code",
   "execution_count": 5,
   "id": "113dbcc0",
   "metadata": {},
   "outputs": [],
   "source": [
    "# Generating the Data Table for Employees in a compyany are punching in time machines at different location\n",
    "\n",
    "dat = []\n",
    "for i in range(97):\n",
    "    dat.append([fake.pyint() , fake.name(), fake.email(), fake.phone_number(), fake.employee_manager()])\n",
    "\n",
    "# Saving data directly to the requried location\n",
    "employeeTable = pd.DataFrame(dat, columns=['EmpID', 'DisplayName', 'UserPrincipalName', 'UserPhoneNumber', 'ManagerID'])\n",
    "employeeTable.to_excel('Reports(MS-Excel&Word)/Data/EmployeesDetails.xlsx')"
   ]
  },
  {
   "cell_type": "code",
   "execution_count": 6,
   "id": "ca2f94bb",
   "metadata": {},
   "outputs": [],
   "source": [
    "# Code for Time Sheet Database\n",
    "\n",
    "# we will create table to achive Start Schema which is easy handle with power bi \n",
    "\n",
    "# In our setup we have 3 data source\n",
    "# 1 is Azure Active directory\n",
    "# 2 is also Azure but Managers\n",
    "# 3 is Time Machine data\n",
    "\n",
    "# So lets do this   "
   ]
  }
 ],
 "metadata": {
  "kernelspec": {
   "display_name": "Python 3 (ipykernel)",
   "language": "python",
   "name": "python3"
  },
  "language_info": {
   "codemirror_mode": {
    "name": "ipython",
    "version": 3
   },
   "file_extension": ".py",
   "mimetype": "text/x-python",
   "name": "python",
   "nbconvert_exporter": "python",
   "pygments_lexer": "ipython3",
   "version": "3.11.5"
  },
  "widgets": {
   "application/vnd.jupyter.widget-state+json": {
    "state": {},
    "version_major": 2,
    "version_minor": 0
   }
  }
 },
 "nbformat": 4,
 "nbformat_minor": 5
}
