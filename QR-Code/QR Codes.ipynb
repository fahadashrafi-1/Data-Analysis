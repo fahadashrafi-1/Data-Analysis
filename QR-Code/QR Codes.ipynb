{
 "cells": [
  {
   "cell_type": "markdown",
   "id": "f2af9081",
   "metadata": {},
   "source": [
    "In this Notebook we will have a small demo on QR Codes\n",
    "In Python you can write Qr Code in just few Lines."
   ]
  },
  {
   "cell_type": "code",
   "execution_count": 35,
   "id": "ba9542dc",
   "metadata": {},
   "outputs": [],
   "source": [
    "# First Import the Library\n",
    "import base64\n",
    "import qrcode"
   ]
  },
  {
   "cell_type": "code",
   "execution_count": 36,
   "id": "2ea79b90",
   "metadata": {},
   "outputs": [
    {
     "data": {
      "image/png": "[encoded data removed]",
      "text/plain": [
       "<qrcode.image.pil.PilImage at 0x2dfae878610>"
      ]
     },
     "execution_count": 36,
     "metadata": {},
     "output_type": "execute_result"
    }
   ],
   "source": [
    "text = 'https://github.com/fahadashrafi-1/'\n",
    "qr = qrcode.make(text)\n",
    "qr"
   ]
  },
  {
   "cell_type": "code",
   "execution_count": null,
   "id": "661c3bc5",
   "metadata": {},
   "outputs": [],
   "source": []
  }
 ],
 "metadata": {
  "kernelspec": {
   "display_name": "Python 3 (ipykernel)",
   "language": "python",
   "name": "python3"
  },
  "language_info": {
   "codemirror_mode": {
    "name": "ipython",
    "version": 3
   },
   "file_extension": ".py",
   "mimetype": "text/x-python",
   "name": "python",
   "nbconvert_exporter": "python",
   "pygments_lexer": "ipython3",
   "version": "3.9.6"
  }
 },
 "nbformat": 4,
 "nbformat_minor": 5
}
