{
 "cells": [
  {
   "cell_type": "markdown",
   "metadata": {},
   "source": [
    "### Periodic Reprots\n",
    "\n",
    "1. Reports generated in corporate on Monthly or Quaterly or weekly.\n",
    "2. Sometime you need to send all the employees some sort of reports of notifications.\n",
    "3. These reports can be anything but we are cosidering timesheets which we are sending to many employees.\n"
   ]
  },
  {
   "cell_type": "code",
   "execution_count": 1,
   "metadata": {},
   "outputs": [],
   "source": [
    "# Import of necessay libraries , \n",
    "import pandas as pd\n",
    "import datetime as dt\n",
    "import xlsxwriter\n"
   ]
  },
  {
   "cell_type": "code",
   "execution_count": 67,
   "metadata": {},
   "outputs": [],
   "source": [
    "# First we are writting the a function which can take our data as write file for us\n",
    "# By this idea our logic is usage and it will be easier for us to manage\n",
    "\n",
    "def write_excel(filename, data):\n",
    "        herdformat = {\n",
    "                      'bold': True, \n",
    "                      'font_color': 'Black', \n",
    "                      'font_name':'Aptos', \n",
    "                      'font_size':20, \n",
    "                      'center_across':True,\n",
    "                      'bg_color': '#b9d8fa'\n",
    "                     }\n",
    "        \n",
    "        writer = pd.ExcelWriter(filename+str(pd.Timestamp.now().date())+\".xlsx\", engine=\"xlsxwriter\")\n",
    "        data.to_excel(writer, sheet_name=\"ManagerWiseEmployees\", index=False, startrow=2, startcol=1)\n",
    "        (max_row, max_col) = data.shape\n",
    "        column_settings = [{\"header\": column} for column in data.columns]\n",
    "        \n",
    "        workbook = writer.book\n",
    "        worksheet = writer.sheets[\"ManagerWiseEmployees\"]\n",
    "    \n",
    "        header_format = workbook.add_format(herdformat)\n",
    "        \n",
    "        worksheet.add_table(2, 1, \n",
    "                            max_row + 2, max_col, \n",
    "                            {\n",
    "                             'columns': column_settings,\n",
    "                             'style': 'Table Style Light 9',\n",
    "                             'name': 'EmployeeTimesheet'\n",
    "                            }\n",
    "                           )\n",
    "                \n",
    "        worksheet.merge_range(\"B1:H1\", \" Manager Wise Empoyees List \", header_format)\n",
    "        worksheet.set_column(1, max_col + 1 , 16)\n",
    "        worksheet.set_tab_color(\"blue\")\n",
    "        writer.close()"
   ]
  },
  {
   "cell_type": "code",
   "execution_count": 97,
   "metadata": {},
   "outputs": [],
   "source": [
    "# let us read the data , \n",
    "# we can read data form almost anywhere.\n",
    "# it ccould be in database or cloud or any ETL process or Data Pipeline\n",
    "\n",
    "empl_details = pd.read_excel('Data/EmployeesDetails.xlsx')\n",
    "empl_manager = pd.read_excel('Data/Managers.xlsx')\n"
   ]
  },
  {
   "cell_type": "code",
   "execution_count": 100,
   "metadata": {},
   "outputs": [],
   "source": [
    "# We have 3 dataframes \n",
    "# One have Manager ID and other has Empl ID with his manager id\n",
    "# empl_details\n",
    "\n",
    "empl_manager = empl_manager[['EmpID', 'DisplayName']].set_index(['EmpID']).rename(columns={'DisplayName': 'ManagerName'})\n",
    "\n",
    "empl_details = empl_details.merge(empl_manager,\n",
    "                   how='left', \n",
    "                   left_on='ManagerID', \n",
    "                   right_index=True,\n",
    "                   validate='m:1')\n",
    "\n",
    "\n",
    "# empl_manager"
   ]
  },
  {
   "cell_type": "code",
   "execution_count": 108,
   "metadata": {},
   "outputs": [
    {
     "data": {
      "text/plain": [
       "ManagerName      \n",
       "Alexander Garcia     13\n",
       "Nicole Williams      11\n",
       "Jason Bryant         10\n",
       "Tommy Weeks           9\n",
       "Victoria Nelson       9\n",
       "Matthew Johnston      8\n",
       "Sherry Phillips       8\n",
       "Erica Mason           7\n",
       "Megan Dixon           6\n",
       "Nicholas Chan         6\n",
       "Barbara Gomez         5\n",
       "Katherine Whitney     5\n",
       "Name: count, dtype: int64"
      ]
     },
     "execution_count": 108,
     "metadata": {},
     "output_type": "execute_result"
    }
   ],
   "source": [
    "# Just to check how many Employees per Managers\n",
    "empl_details.value_counts(['ManagerName'])"
   ]
  },
  {
   "cell_type": "code",
   "execution_count": 107,
   "metadata": {},
   "outputs": [],
   "source": [
    "# Select Manager name to print at our report\n",
    "df = empl_details[empl_details['ManagerName'] == 'Alexander Garcia']\n",
    "\n",
    "# Now we are done\n",
    "\n",
    "write_excel('Alexander Garcia', df)"
   ]
  }
 ],
 "metadata": {
  "kernelspec": {
   "display_name": "Python 3",
   "language": "python",
   "name": "python3"
  },
  "language_info": {
   "codemirror_mode": {
    "name": "ipython",
    "version": 3
   },
   "file_extension": ".py",
   "mimetype": "text/x-python",
   "name": "python",
   "nbconvert_exporter": "python",
   "pygments_lexer": "ipython3",
   "version": "3.11.5"
  }
 },
 "nbformat": 4,
 "nbformat_minor": 2
}
