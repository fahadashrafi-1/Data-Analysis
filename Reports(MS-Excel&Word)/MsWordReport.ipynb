{
 "cells": [
  {
   "cell_type": "markdown",
   "metadata": {},
   "source": [
    "### Periodic Reprots\n",
    "\n",
    "1. Reports generated in copertes on repetedly weekly or bi weekly.\n",
    "2. You have to inform more than 200 project owners for there existing task.\n",
    "3. Analytical reports or paper based dashboards\n"
   ]
  },
  {
   "cell_type": "code",
   "execution_count": 1,
   "metadata": {},
   "outputs": [],
   "source": [
    "# Import of necessay libraries , \n",
    "import pandas as pd\n",
    "import datetime as dt\n",
    "import matplotlib.pyplot as plt\n",
    "import docx\n",
    "from docx.shared import Inches"
   ]
  },
  {
   "cell_type": "code",
   "execution_count": null,
   "metadata": {},
   "outputs": [],
   "source": [
    "# Reading the file \n",
    "temp = pd.read_excel('Data/PaperReportsData.xlsx')\n",
    "\n",
    "\n",
    "# Some required data\n",
    "to_days = dt.date.today()\n",
    "to_days = pd.to_datetime(to_days)\n",
    "\n",
    "\n",
    "i = 'Project - 1'\n",
    "doc = docx.Document()\n",
    "section = doc.sections[0]\n",
    "header = section.header\n",
    "paragraph = header.paragraphs[0]\n",
    "paragraph.text = \"Your Logo\\t Projects Progress Tracking \"\n",
    "paragraph.style = doc.styles[\"Header\"]\n",
    "\n",
    "# temp = df.copy()\n",
    "temp = temp[temp['Project Name'] == i]\n",
    "\n",
    "# Code for Privious overall project\n",
    "doc.add_heading('\\t\\t Overall Project status from Start to End', level=2)\n",
    "doc.add_heading(\"Report Date \"+str(to_days.date())+\"\\t\\t\\t\\t\\t\\t Project Type :\"+ str(temp['Type'].unique()[0]), level=9)\n",
    "\n",
    "# Used simple oneliner matplotlip to save pic at specific location\n",
    "temp[['Start Date', 'End Date' , 'Completion Date']].plot(style='*-', figsize=(10, 4), fontsize=8, title=i, grid=True, xlabel='Task arrange in Numbers accordingly', ylabel='Date From Start till End')\n",
    "plt.savefig('Data/Matplotlib/'+i+'.png')\n",
    "\n",
    "# Now use the same picture to make our report advance analitics\n",
    "doc.add_picture('Data/Matplotlib/'+i+'.png', width=Inches(6.25))\n",
    "\n",
    "# We can use text, We have the power of python to use whatever conditions are required.\n",
    "doc.add_paragraph('Project Detail View from start untill today can be observed. Star Marked are Tasks According to there Planned, Start and End Date and Actual Completion.                    Variance between the Planned Closed date and Actual Closed Date are clearly visible. ')\n",
    "\n",
    "#  Delayed Items\n",
    "o1 = temp[['Project Task Name', 'End Date','Completion Date']]\n",
    "o1 = o1.copy()\n",
    "o1['Extra Days'] =  o1['Completion Date'] - o1['End Date']\n",
    "o1 = o1[(o1['Extra Days'].notna())]\n",
    "o1 = o1[(o1['Extra Days'] >= pd.to_timedelta(1,unit='D'))]\n",
    "\n",
    "if o1.shape[0] != 0:\n",
    "    doc.add_heading('Progress Delayed Items ', level=2)\n",
    "    doc.add_heading('Following items effected the progress performence ', level=5)    \n",
    "    t3 = doc.add_table(o1.shape[0]+1, o1.shape[1], style = 'Table Grid')\n",
    "\n",
    "    # add the header rows.\n",
    "    for j3 in range(o1.shape[-1]):\n",
    "        t3.cell(0,j3).text = o1.columns[j3]\n",
    "\n",
    "    # add the rest of the data frame\n",
    "    for m3 in range(o1.shape[0]):\n",
    "        for j3 in range(o1.shape[-1]):\n",
    "            t3.cell(m3+1,j3).text = str(o1.values[m3,j3])\n",
    "\n",
    "doc.save('ProjectWiseProgressTracker '+ str(to_days.date())+ '.docx')\n",
    "\n",
    "# You can also write some lines to convert this reprot to PDF.\n"
   ]
  },
  {
   "cell_type": "code",
   "execution_count": null,
   "metadata": {},
   "outputs": [],
   "source": []
  }
 ],
 "metadata": {
  "kernelspec": {
   "display_name": "Python 3",
   "language": "python",
   "name": "python3"
  },
  "language_info": {
   "codemirror_mode": {
    "name": "ipython",
    "version": 3
   },
   "file_extension": ".py",
   "mimetype": "text/x-python",
   "name": "python",
   "nbconvert_exporter": "python",
   "pygments_lexer": "ipython3",
   "version": "3.11.5"
  }
 },
 "nbformat": 4,
 "nbformat_minor": 2
}
