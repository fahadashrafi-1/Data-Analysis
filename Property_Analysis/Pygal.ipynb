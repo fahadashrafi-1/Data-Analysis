{
 "cells": [
  {
   "cell_type": "code",
   "execution_count": 4,
   "id": "fa9842a5",
   "metadata": {},
   "outputs": [],
   "source": [
    "import pygal\n",
    "from IPython.display import SVG, display"
   ]
  },
  {
   "cell_type": "code",
   "execution_count": null,
   "id": "d80a6e53",
   "metadata": {},
   "outputs": [],
   "source": [
    "from datetime import datetime, timedelta\n",
    "date_chart = pygal.Line(x_label_rotation=20)\n",
    "date_chart.x_labels = map(lambda d: d.strftime('%Y-%m-%d'), [\n",
    "                            datetime(2013, 1, 2),\n",
    "                            datetime(2013, 1, 12),\n",
    "                            datetime(2013, 2, 2),\n",
    "                            datetime(2013, 2, 22)])\n",
    "date_chart.add(\"Visits\", [300, 412, 823, 672])\n",
    "date_chart.render()\n",
    "display(SVG(date_chart.render(disable_xml_declaration=True)))"
   ]
  },
  {
   "cell_type": "code",
   "execution_count": null,
   "id": "528d7a18",
   "metadata": {},
   "outputs": [],
   "source": [
    "import pygal\n",
    "from IPython.display import SVG, display\n",
    "\n",
    "bar_chart = pygal.Bar()\n",
    "bar_chart.add('Fibonacci', [0, 1, 1, 2, 3, 5, 8, 13, 21, 34, 55])\n",
    "display(SVG(bar_chart.render(disable_xml_declaration=True)))"
   ]
  },
  {
   "cell_type": "code",
   "execution_count": null,
   "id": "fed47def",
   "metadata": {},
   "outputs": [],
   "source": []
  }
 ],
 "metadata": {
  "kernelspec": {
   "display_name": "Python 3 (ipykernel)",
   "language": "python",
   "name": "python3"
  },
  "language_info": {
   "codemirror_mode": {
    "name": "ipython",
    "version": 3
   },
   "file_extension": ".py",
   "mimetype": "text/x-python",
   "name": "python",
   "nbconvert_exporter": "python",
   "pygments_lexer": "ipython3",
   "version": "3.9.6"
  }
 },
 "nbformat": 4,
 "nbformat_minor": 5
}
