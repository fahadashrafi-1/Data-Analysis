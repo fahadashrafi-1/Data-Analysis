{
 "cells": [
  {
   "cell_type": "markdown",
   "metadata": {},
   "source": [
    "# Analizing the Property Data,"
   ]
  },
  {
   "cell_type": "code",
   "execution_count": 1,
   "metadata": {},
   "outputs": [],
   "source": [
    "# Import the pandas\n",
    "import pandas as pd"
   ]
  },
  {
   "cell_type": "code",
   "execution_count": 2,
   "metadata": {},
   "outputs": [],
   "source": [
    "# First we are going to read the Data file\n",
    "data = pd.read_csv('property-data.csv')"
   ]
  },
  {
   "cell_type": "code",
   "execution_count": null,
   "metadata": {},
   "outputs": [],
   "source": [
    "# here can see the rows and columns of our dataset we have\n",
    "# there are 168446 Rows \n",
    "# and Total of 17 Columns\n",
    "data.shape"
   ]
  },
  {
   "cell_type": "code",
   "execution_count": null,
   "metadata": {},
   "outputs": [],
   "source": [
    "# A little deep analysis for our available fields in the Data.\n",
    "# Take note that we have date_added as an object which we have to convert to datetime.\n",
    "# Also tow good fileds for Latitude and Longitute are available to check the location.\n",
    "data.info()"
   ]
  },
  {
   "cell_type": "code",
   "execution_count": 5,
   "metadata": {},
   "outputs": [],
   "source": [
    "# Notice that columns which are not important to us at this analysis so we are going to remove them.\n",
    "# axis = 1 means we need to drop columns , inplcace True me we need to do it at orignal data not on copy.\n",
    "data.drop(['page_url', 'agency', 'agent'], axis=1, inplace=True)"
   ]
  },
  {
   "cell_type": "code",
   "execution_count": null,
   "metadata": {},
   "outputs": [],
   "source": [
    "# One more important thing Always consider that our data should not contains the duplicate values.\n",
    "# Our Analysis will no worth we analise one property twice.\n",
    "data.duplicated('property_id').sum()"
   ]
  },
  {
   "cell_type": "code",
   "execution_count": null,
   "metadata": {},
   "outputs": [],
   "source": [
    "# Now we will check the numeric values a very quic way pandas offers us as \n",
    "# Here you can see the some statistic mean, count, min , maxium, Standard Divation and Quarntile \n",
    "data.describe()\n",
    "\n",
    "# You can also use a parmeter all if you wnat to include the string columns in you analysis\n",
    "# data.describe(include='all') \n",
    "\n",
    "\n"
   ]
  },
  {
   "cell_type": "code",
   "execution_count": null,
   "metadata": {},
   "outputs": [],
   "source": [
    "# Pandas magic command to show Correlation in data\n",
    "data.corr()"
   ]
  },
  {
   "cell_type": "code",
   "execution_count": null,
   "metadata": {},
   "outputs": [],
   "source": [
    "# Humman brains are good at catagorise and compare so let us look some counts\n",
    "# Here we can the the the properties for Rent and Sales are very different and we should consider them seperatly\n",
    "data.purpose.value_counts()"
   ]
  },
  {
   "cell_type": "code",
   "execution_count": null,
   "metadata": {},
   "outputs": [],
   "source": [
    "# So now we understand that our dataset has two major classes Rent and Sale\n",
    "# Here we are just wanted to confirm the 3 samples of each group under pupose tab Sales and Rent\n",
    "data.groupby(['purpose']).sample(n=3, random_state=6)"
   ]
  },
  {
   "cell_type": "code",
   "execution_count": null,
   "metadata": {},
   "outputs": [],
   "source": [
    "# Now here we will look on 3 records of each purpose Category\n",
    "# For Rent 3 properties and for For Sale 3 properties\n",
    "data.groupby(['purpose']).sample(n=3, random_state=6)"
   ]
  },
  {
   "cell_type": "code",
   "execution_count": null,
   "metadata": {},
   "outputs": [],
   "source": [
    "# pandas groupby operations are very flexable and can perform the hevy lifting.\n",
    "# here we are counting the Number \n",
    "data.groupby(['purpose', 'property_type'])['price'].count()"
   ]
  },
  {
   "cell_type": "code",
   "execution_count": null,
   "metadata": {},
   "outputs": [],
   "source": [
    "# Properties with there purpose cities and types \n",
    "data.groupby(['purpose','city', 'property_type'])['price'].count()"
   ]
  },
  {
   "cell_type": "code",
   "execution_count": null,
   "metadata": {},
   "outputs": [],
   "source": [
    "# The most expensive properties in both groups Sales and Rent\n",
    "data.groupby(['purpose', 'property_type'])['price'].max() # You can also use min() here for minium proerties."
   ]
  },
  {
   "cell_type": "code",
   "execution_count": null,
   "metadata": {},
   "outputs": [],
   "source": [
    "# some Charts\n",
    "# basic charting in Pnadas are good enough for creating basic understanding.\n",
    "# Some fancy options are also available like , Bokeh, Seaborn, Plotly and Altair\n",
    "data.baths.value_counts().plot(kind='bar')"
   ]
  },
  {
   "cell_type": "code",
   "execution_count": null,
   "metadata": {},
   "outputs": [],
   "source": [
    "# To see only For Sale Properties.\n",
    "df = data[data['purpose'] == 'For Sale']\n",
    "df"
   ]
  },
  {
   "cell_type": "code",
   "execution_count": null,
   "metadata": {},
   "outputs": [],
   "source": [
    "# We can see the proerties for sale by there room which is 3 rooms are the highiest\n",
    "df.value_counts('bedrooms')"
   ]
  },
  {
   "cell_type": "code",
   "execution_count": null,
   "metadata": {},
   "outputs": [],
   "source": [
    "# We can see the proerties for sale by there room which is 3 rooms are the highiest\n",
    "df.groupby(['city', 'location', 'area'])['price'].mean()"
   ]
  },
  {
   "cell_type": "code",
   "execution_count": 19,
   "metadata": {},
   "outputs": [],
   "source": [
    "# Now we will see for Rent \n",
    "df = data[data['purpose'] == 'For Rent']"
   ]
  },
  {
   "cell_type": "code",
   "execution_count": null,
   "metadata": {},
   "outputs": [],
   "source": [
    "# The numper of rooms available for rent\n",
    "df.value_counts('bedrooms')"
   ]
  },
  {
   "cell_type": "code",
   "execution_count": null,
   "metadata": {},
   "outputs": [],
   "source": [
    "# Properties by Marla in Area and with there cities and locations.\n",
    "df.groupby(['province_name','city', 'location', 'area'])['price'].count()"
   ]
  },
  {
   "cell_type": "code",
   "execution_count": null,
   "id": "296d6818",
   "metadata": {},
   "outputs": [],
   "source": [
    "# Now we will see the same data but this time by Average of Prices\n",
    "df.groupby(['province_name','city', 'location', 'area'])['price'].mean()\n",
    "# df.sample(50)"
   ]
  },
  {
   "cell_type": "code",
   "execution_count": null,
   "id": "c3bce321",
   "metadata": {},
   "outputs": [],
   "source": [
    "# Now we will group by our dta 1st by province, then by city , aftee by location with a mean\n",
    "df.groupby(['province_name','city', 'location', 'area'])['price'].mean()"
   ]
  },
  {
   "cell_type": "code",
   "execution_count": null,
   "id": "20d4f83f",
   "metadata": {},
   "outputs": [],
   "source": [
    "df['price']"
   ]
  },
  {
   "cell_type": "code",
   "execution_count": null,
   "id": "de325efe",
   "metadata": {},
   "outputs": [],
   "source": [
    "# Show Latitiude and Longitude\n",
    "df[['latitude', 'longitude']]"
   ]
  },
  {
   "cell_type": "code",
   "execution_count": null,
   "id": "77e8eb71",
   "metadata": {},
   "outputs": [],
   "source": [
    "# Poerperties by cities\n",
    "df['city'].nunique(), df['city'].value_counts()"
   ]
  }
 ],
 "metadata": {
  "interpreter": {
   "hash": "6fff98fc3b3d81bd655c2cc48858186e4d9e2db7b515bf1c3221888f12a62f87"
  },
  "kernelspec": {
   "display_name": "Python 3.9.6 64-bit",
   "language": "python",
   "name": "python3"
  },
  "language_info": {
   "codemirror_mode": {
    "name": "ipython",
    "version": 3
   },
   "file_extension": ".py",
   "mimetype": "text/x-python",
   "name": "python",
   "nbconvert_exporter": "python",
   "pygments_lexer": "ipython3",
   "version": "3.10.0"
  }
 },
 "nbformat": 4,
 "nbformat_minor": 5
}
