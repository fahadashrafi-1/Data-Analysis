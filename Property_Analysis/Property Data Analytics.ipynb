{
 "cells": [
  {
   "cell_type": "markdown",
   "id": "efc2cc91",
   "metadata": {},
   "source": [
    "# Analizing the Property Data,"
   ]
  },
  {
   "cell_type": "code",
   "execution_count": null,
   "id": "documented-nigeria",
   "metadata": {},
   "outputs": [],
   "source": [
    "# Import the pandas\n",
    "import pandas as pd"
   ]
  },
  {
   "cell_type": "code",
   "execution_count": null,
   "id": "frequent-hindu",
   "metadata": {},
   "outputs": [],
   "source": [
    "# First we are going to read the Data file\n",
    "data = pd.read_csv('property-data.csv')"
   ]
  },
  {
   "cell_type": "code",
   "execution_count": null,
   "id": "50b39f1e",
   "metadata": {},
   "outputs": [],
   "source": [
    "# here can see the rows and columns of our dataset we have\n",
    "# there are 168446 Rows \n",
    "# and Total of 17 Columns\n",
    "data.shape"
   ]
  },
  {
   "cell_type": "code",
   "execution_count": null,
   "id": "cathedral-feelings",
   "metadata": {},
   "outputs": [],
   "source": [
    "# A little deep analysis for our available fields in the Data.\n",
    "# Take note that we have date_added as an object which we have to convert to datetime.\n",
    "# Also tow good fileds for Latitude and Longitute are available to check the location.\n",
    "data.info()"
   ]
  },
  {
   "cell_type": "code",
   "execution_count": null,
   "id": "61343e12",
   "metadata": {},
   "outputs": [],
   "source": [
    "# Notice that columns which are not important to us at this analysis so we are going to remove them \n",
    "data.drop(['page_url', 'agency', 'agent'], axis=1, inplace=True)"
   ]
  },
  {
   "cell_type": "code",
   "execution_count": null,
   "id": "1ca89153",
   "metadata": {},
   "outputs": [],
   "source": [
    "# One more important thing Always consider that our data should not contains the duplicate values.\n",
    "# Our Analysis will no worth we analise one property twice.\n",
    "data.duplicated('property_id').sum()"
   ]
  },
  {
   "cell_type": "code",
   "execution_count": null,
   "id": "mineral-geology",
   "metadata": {},
   "outputs": [],
   "source": [
    "# Now we will check the numeric values a very quic way pandas offers us as \n",
    "# Here you can see the some statistic mean, count, min , maxium, Standard Divation and Quarntile \n",
    "data.describe()"
   ]
  },
  {
   "cell_type": "code",
   "execution_count": null,
   "id": "grand-macro",
   "metadata": {},
   "outputs": [],
   "source": [
    "# Humman brains are good at catagorise and compare so let us look some counts\n",
    "# Here we can the the the properties for Rent and Sales are very different and we should consider them seperatly\n",
    "data.purpose.value_counts()"
   ]
  },
  {
   "cell_type": "code",
   "execution_count": null,
   "id": "9266daa6",
   "metadata": {},
   "outputs": [],
   "source": [
    "# So now we understand that our dataset has two major classes Rent and Sale\n",
    "# Here we are just wanted to confirm the 3 samples of each group under pupose tab Sales and Rent\n",
    "data.groupby(['purpose']).sample(n=3, random_state=6)"
   ]
  },
  {
   "cell_type": "code",
   "execution_count": null,
   "id": "441d58fc",
   "metadata": {},
   "outputs": [],
   "source": [
    "# Now here we will look on 3 records of each purpose Category\n",
    "# For Rent 3 properties and for For Sale 3 properties\n",
    "data.groupby(['purpose']).sample(n=3, random_state=6)"
   ]
  },
  {
   "cell_type": "code",
   "execution_count": null,
   "id": "23c37c6c",
   "metadata": {},
   "outputs": [],
   "source": [
    "# pandas groupby operations are very flexable and can perform the hevy lifting.\n",
    "# here we are counting the Number \n",
    "data.groupby(['purpose', 'property_type'])['price'].count()"
   ]
  },
  {
   "cell_type": "code",
   "execution_count": null,
   "id": "12e44014",
   "metadata": {},
   "outputs": [],
   "source": [
    "# Properties with there purpose cities and types \n",
    "data.groupby(['purpose','city', 'property_type'])['price'].count()"
   ]
  },
  {
   "cell_type": "code",
   "execution_count": null,
   "id": "0cbf6804",
   "metadata": {},
   "outputs": [],
   "source": [
    "# The most expensive properties in both groups Sales and Rent\n",
    "data.groupby(['purpose', 'property_type'])['price'].max() # You can also use min() here for minium proerties."
   ]
  },
  {
   "cell_type": "code",
   "execution_count": null,
   "id": "0ecf0070",
   "metadata": {},
   "outputs": [],
   "source": [
    "# some Charts\n",
    "data.baths.value_counts().plot(kind='bar')"
   ]
  },
  {
   "cell_type": "code",
   "execution_count": null,
   "id": "3616619e",
   "metadata": {},
   "outputs": [],
   "source": [
    "# To see only For Sale Properties.\n",
    "df = data[data['purpose'] == 'For Sale']\n",
    "df"
   ]
  },
  {
   "cell_type": "code",
   "execution_count": null,
   "id": "b7324bf7",
   "metadata": {},
   "outputs": [],
   "source": [
    "# We can see the proerties for sale by there room which is 3 rooms are the highiest\n",
    "df.value_counts('bedrooms')"
   ]
  },
  {
   "cell_type": "code",
   "execution_count": null,
   "id": "e92e0f0a",
   "metadata": {},
   "outputs": [],
   "source": [
    "df.groupby(['city', 'location', 'area'])['price'].count()"
   ]
  },
  {
   "cell_type": "code",
   "execution_count": null,
   "id": "b33d8dea",
   "metadata": {},
   "outputs": [],
   "source": [
    "# Now we will see for Rent \n",
    "df = data[data['purpose'] == 'For Rent']"
   ]
  },
  {
   "cell_type": "code",
   "execution_count": null,
   "id": "28ad3dc0",
   "metadata": {},
   "outputs": [],
   "source": [
    "# The numper of rooms available for rent\n",
    "df.value_counts('bedrooms')"
   ]
  },
  {
   "cell_type": "code",
   "execution_count": null,
   "id": "1502c66d",
   "metadata": {},
   "outputs": [],
   "source": [
    "# Properties by Marla in Area and with there cities and locations.\n",
    "df.groupby(['city', 'location', 'area'])['price'].count()"
   ]
  }
 ],
 "metadata": {
  "kernelspec": {
   "display_name": "Python 3 (ipykernel)",
   "language": "python",
   "name": "python3"
  },
  "language_info": {
   "codemirror_mode": {
    "name": "ipython",
    "version": 3
   },
   "file_extension": ".py",
   "mimetype": "text/x-python",
   "name": "python",
   "nbconvert_exporter": "python",
   "pygments_lexer": "ipython3",
   "version": "3.9.6"
  }
 },
 "nbformat": 4,
 "nbformat_minor": 5
}
