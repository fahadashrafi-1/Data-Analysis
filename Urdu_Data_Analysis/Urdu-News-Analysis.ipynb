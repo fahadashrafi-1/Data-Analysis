{
 "cells": [
  {
   "cell_type": "markdown",
   "id": "d492658c",
   "metadata": {},
   "source": [
    "#  Writing Objectives :-\n",
    "\n",
    " 1. Read Urdu Data through Python\n",
    " 2. check the basic shape , column size , types\n",
    " 3. use value count to find which type of news is this\n",
    " 4. Do some plots with urdu right to left data \n",
    " 5. Showing the role of Python and pandas for urdu language (right to left).\n",
    " \n",
    "    "
   ]
  },
  {
   "cell_type": "code",
   "execution_count": null,
   "id": "72e80730",
   "metadata": {},
   "outputs": [],
   "source": [
    "import pandas as pd\n",
    "import altair as alt"
   ]
  },
  {
   "cell_type": "code",
   "execution_count": null,
   "id": "6560c0e1",
   "metadata": {},
   "outputs": [],
   "source": [
    "# Reading the csv file into data.\n",
    "\n",
    "data = pd.read_csv('/home/fahad/Desktop/CrimeAnalysis/crime_new.csv', encoding='UTF-16')"
   ]
  },
  {
   "cell_type": "code",
   "execution_count": null,
   "id": "e919a0c5",
   "metadata": {},
   "outputs": [],
   "source": [
    "# Data Set contains 788 rows and 6 columns\n",
    "data.shape"
   ]
  },
  {
   "cell_type": "code",
   "execution_count": null,
   "id": "4f80ccd3",
   "metadata": {},
   "outputs": [],
   "source": [
    "# it shows that all the columns are object type only and we need to convert these to\n",
    "# their respective types when required.\n",
    "data.info()"
   ]
  },
  {
   "cell_type": "code",
   "execution_count": null,
   "id": "4a89a423",
   "metadata": {},
   "outputs": [],
   "source": [
    "# Small data only 10 random rows to check only.\n",
    "data.sample(10)"
   ]
  },
  {
   "cell_type": "code",
   "execution_count": null,
   "id": "63254f95",
   "metadata": {},
   "outputs": [],
   "source": [
    "# Now will will convert the title to string dataype to reach our objective of getting\n",
    "# reporter wise list\n",
    "data['title'] = data['title'].astype(str)\n",
    "\n",
    "# # We Need to Know how many Reports given by this particular reporter\n",
    "data['title'].str.contains('عرفان ملک').sum()\n",
    "# data['title'].value_counts()\n"
   ]
  },
  {
   "cell_type": "code",
   "execution_count": null,
   "id": "c5a2ee29",
   "metadata": {},
   "outputs": [],
   "source": [
    "# List all the news,  by Reporter Irfan Malik\n",
    "\n",
    "data[data['title'].str.contains('عرفان ملک')]"
   ]
  },
  {
   "cell_type": "code",
   "execution_count": null,
   "id": "aca4c7ad",
   "metadata": {},
   "outputs": [],
   "source": [
    "# Count by the keyword or crime type\n",
    "\n",
    "data['kEYWORD'].value_counts()"
   ]
  },
  {
   "cell_type": "code",
   "execution_count": null,
   "id": "e1d7b8e8",
   "metadata": {},
   "outputs": [],
   "source": [
    "# We will use altair a visiulization library in python for visiulization of data.\n",
    "\n",
    "alt.Chart(data).mark_bar().encode(\n",
    "    x='kEYWORD',\n",
    "    y='count()')"
   ]
  },
  {
   "cell_type": "code",
   "execution_count": null,
   "id": "f6849d68",
   "metadata": {},
   "outputs": [],
   "source": []
  },
  {
   "cell_type": "code",
   "execution_count": null,
   "id": "3ee6c63a",
   "metadata": {},
   "outputs": [],
   "source": []
  }
 ],
 "metadata": {
  "kernelspec": {
   "display_name": "Python 3",
   "language": "python",
   "name": "python3"
  },
  "language_info": {
   "codemirror_mode": {
    "name": "ipython",
    "version": 3
   },
   "file_extension": ".py",
   "mimetype": "text/x-python",
   "name": "python",
   "nbconvert_exporter": "python",
   "pygments_lexer": "ipython3",
   "version": "3.8.10"
  }
 },
 "nbformat": 4,
 "nbformat_minor": 5
}
